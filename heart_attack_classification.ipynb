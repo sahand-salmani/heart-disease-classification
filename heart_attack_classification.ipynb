{
 "cells": [
  {
   "cell_type": "code",
   "execution_count": 96,
   "id": "2917ed94-08e0-4753-b2df-ed6de577abab",
   "metadata": {},
   "outputs": [],
   "source": [
    "import warnings\n",
    "import numpy as np\n",
    "import pandas as pd\n",
    "import seaborn as sns\n",
    "import matplotlib.pyplot as plt\n",
    "from sklearn.preprocessing import StandardScaler\n",
    "from sklearn.linear_model import LogisticRegression\n",
    "from sklearn.model_selection import train_test_split\n",
    "from sklearn.metrics import accuracy_score, classification_report\n",
    "\n",
    "warnings.filterwarnings('ignore')"
   ]
  },
  {
   "cell_type": "code",
   "execution_count": 97,
   "id": "7f9282e7-d8c0-4a00-ba62-66c7f61ba42b",
   "metadata": {},
   "outputs": [],
   "source": [
    "df = pd.read_csv('heart.csv')\n",
    "df_copy = df.copy()"
   ]
  },
  {
   "cell_type": "code",
   "execution_count": 98,
   "id": "083057b1-bca3-468d-ba69-eaaca2132db3",
   "metadata": {},
   "outputs": [
    {
     "data": {
      "text/html": [
       "<div>\n",
       "<style scoped>\n",
       "    .dataframe tbody tr th:only-of-type {\n",
       "        vertical-align: middle;\n",
       "    }\n",
       "\n",
       "    .dataframe tbody tr th {\n",
       "        vertical-align: top;\n",
       "    }\n",
       "\n",
       "    .dataframe thead th {\n",
       "        text-align: right;\n",
       "    }\n",
       "</style>\n",
       "<table border=\"1\" class=\"dataframe\">\n",
       "  <thead>\n",
       "    <tr style=\"text-align: right;\">\n",
       "      <th></th>\n",
       "      <th>Age</th>\n",
       "      <th>Sex</th>\n",
       "      <th>ChestPainType</th>\n",
       "      <th>RestingBP</th>\n",
       "      <th>Cholesterol</th>\n",
       "      <th>FastingBS</th>\n",
       "      <th>RestingECG</th>\n",
       "      <th>MaxHR</th>\n",
       "      <th>ExerciseAngina</th>\n",
       "      <th>Oldpeak</th>\n",
       "      <th>ST_Slope</th>\n",
       "      <th>HeartDisease</th>\n",
       "    </tr>\n",
       "  </thead>\n",
       "  <tbody>\n",
       "    <tr>\n",
       "      <th>0</th>\n",
       "      <td>40</td>\n",
       "      <td>M</td>\n",
       "      <td>ATA</td>\n",
       "      <td>140</td>\n",
       "      <td>289</td>\n",
       "      <td>0</td>\n",
       "      <td>Normal</td>\n",
       "      <td>172</td>\n",
       "      <td>N</td>\n",
       "      <td>0.0</td>\n",
       "      <td>Up</td>\n",
       "      <td>0</td>\n",
       "    </tr>\n",
       "    <tr>\n",
       "      <th>1</th>\n",
       "      <td>49</td>\n",
       "      <td>F</td>\n",
       "      <td>NAP</td>\n",
       "      <td>160</td>\n",
       "      <td>180</td>\n",
       "      <td>0</td>\n",
       "      <td>Normal</td>\n",
       "      <td>156</td>\n",
       "      <td>N</td>\n",
       "      <td>1.0</td>\n",
       "      <td>Flat</td>\n",
       "      <td>1</td>\n",
       "    </tr>\n",
       "    <tr>\n",
       "      <th>2</th>\n",
       "      <td>37</td>\n",
       "      <td>M</td>\n",
       "      <td>ATA</td>\n",
       "      <td>130</td>\n",
       "      <td>283</td>\n",
       "      <td>0</td>\n",
       "      <td>ST</td>\n",
       "      <td>98</td>\n",
       "      <td>N</td>\n",
       "      <td>0.0</td>\n",
       "      <td>Up</td>\n",
       "      <td>0</td>\n",
       "    </tr>\n",
       "    <tr>\n",
       "      <th>3</th>\n",
       "      <td>48</td>\n",
       "      <td>F</td>\n",
       "      <td>ASY</td>\n",
       "      <td>138</td>\n",
       "      <td>214</td>\n",
       "      <td>0</td>\n",
       "      <td>Normal</td>\n",
       "      <td>108</td>\n",
       "      <td>Y</td>\n",
       "      <td>1.5</td>\n",
       "      <td>Flat</td>\n",
       "      <td>1</td>\n",
       "    </tr>\n",
       "    <tr>\n",
       "      <th>4</th>\n",
       "      <td>54</td>\n",
       "      <td>M</td>\n",
       "      <td>NAP</td>\n",
       "      <td>150</td>\n",
       "      <td>195</td>\n",
       "      <td>0</td>\n",
       "      <td>Normal</td>\n",
       "      <td>122</td>\n",
       "      <td>N</td>\n",
       "      <td>0.0</td>\n",
       "      <td>Up</td>\n",
       "      <td>0</td>\n",
       "    </tr>\n",
       "  </tbody>\n",
       "</table>\n",
       "</div>"
      ],
      "text/plain": [
       "   Age Sex ChestPainType  RestingBP  Cholesterol  FastingBS RestingECG  MaxHR  \\\n",
       "0   40   M           ATA        140          289          0     Normal    172   \n",
       "1   49   F           NAP        160          180          0     Normal    156   \n",
       "2   37   M           ATA        130          283          0         ST     98   \n",
       "3   48   F           ASY        138          214          0     Normal    108   \n",
       "4   54   M           NAP        150          195          0     Normal    122   \n",
       "\n",
       "  ExerciseAngina  Oldpeak ST_Slope  HeartDisease  \n",
       "0              N      0.0       Up             0  \n",
       "1              N      1.0     Flat             1  \n",
       "2              N      0.0       Up             0  \n",
       "3              Y      1.5     Flat             1  \n",
       "4              N      0.0       Up             0  "
      ]
     },
     "execution_count": 98,
     "metadata": {},
     "output_type": "execute_result"
    }
   ],
   "source": [
    "df.head()"
   ]
  },
  {
   "cell_type": "markdown",
   "id": "e67422f1-1409-45ac-bb68-afb9ca21a575",
   "metadata": {},
   "source": [
    "### Cheking NA or null values of our data set"
   ]
  },
  {
   "cell_type": "code",
   "execution_count": 99,
   "id": "551e7cc6-9359-4a87-a7dc-279e7b7c2c94",
   "metadata": {},
   "outputs": [
    {
     "data": {
      "text/plain": [
       "Age               0\n",
       "Sex               0\n",
       "ChestPainType     0\n",
       "RestingBP         0\n",
       "Cholesterol       0\n",
       "FastingBS         0\n",
       "RestingECG        0\n",
       "MaxHR             0\n",
       "ExerciseAngina    0\n",
       "Oldpeak           0\n",
       "ST_Slope          0\n",
       "HeartDisease      0\n",
       "dtype: int64"
      ]
     },
     "execution_count": 99,
     "metadata": {},
     "output_type": "execute_result"
    }
   ],
   "source": [
    "df.isnull().sum() + df.isna().sum()"
   ]
  },
  {
   "cell_type": "markdown",
   "id": "a750c773-fca7-4f84-b01a-5d4423b0b729",
   "metadata": {},
   "source": [
    "### Performing One-Hot Encoding on following collumns\n",
    "- ChestPainType\n",
    "- RestingECG\n",
    "- ExerciseAngina\n",
    "- ST_Slope\n",
    "- Sex (Gender)"
   ]
  },
  {
   "cell_type": "code",
   "execution_count": 100,
   "id": "92652a9a-0986-412e-9b24-da80a2c64599",
   "metadata": {},
   "outputs": [],
   "source": [
    "def one_hot_encoding(data_frame,column_name, prefix_name):\n",
    "    temp = pd.get_dummies(data_frame[column_name], prefix=prefix_name) * 1\n",
    "    data_frame.drop(column_name, axis=1, inplace=True)\n",
    "    return pd.concat([data_frame, temp], axis=1)"
   ]
  },
  {
   "cell_type": "code",
   "execution_count": 101,
   "id": "b56b6d97-06d1-42f8-84d0-37291a9c2e4c",
   "metadata": {},
   "outputs": [],
   "source": [
    "columns_to_perform_one_hot_encoding = {\n",
    "    'ChestPainType': 'Cheest_Pain',\n",
    "    'RestingECG': 'Resting_ECG',\n",
    "    'ExerciseAngina': 'Exercise_Angina',\n",
    "    'ST_Slope': 'ST_Slope',\n",
    "    'Sex': 'Sex'\n",
    "}\n",
    "for key in columns_to_perform_one_hot_encoding:\n",
    "    df = one_hot_encoding(df, key, columns_to_perform_one_hot_encoding[key])\n"
   ]
  },
  {
   "cell_type": "markdown",
   "id": "5f695377-d325-477e-a0c7-37f5318795b6",
   "metadata": {},
   "source": [
    "### Applying Standardization technique on the following collumns\n",
    "- Age\n",
    "- RestingBP\n",
    "- Cholesterol\n",
    "- MaxHR\n",
    "- Oldpeak\n",
    "\n",
    "#### Since the scale of some columns are different, we need to apply Standardization technique to give equal importance to all the columns, other wise those collumn will affect the model most because of their high scales"
   ]
  },
  {
   "cell_type": "code",
   "execution_count": 102,
   "id": "338852e7-2578-4469-b294-a088d16189b4",
   "metadata": {},
   "outputs": [],
   "source": [
    "numerical_features = ['Age', 'RestingBP', 'Cholesterol', 'MaxHR', 'Oldpeak']\n",
    "scaler = StandardScaler()\n",
    "df[numerical_features] = scaler.fit_transform(df[numerical_features])"
   ]
  },
  {
   "cell_type": "markdown",
   "id": "0327d523-0fb2-4b43-b2a5-29ea9b16450d",
   "metadata": {},
   "source": [
    "### Converting our pandas DataFrame to numpy series to perform the machine learning algorithms"
   ]
  },
  {
   "cell_type": "code",
   "execution_count": 103,
   "id": "e12aa195-99e9-4aac-b29b-9ceaf65dd405",
   "metadata": {},
   "outputs": [],
   "source": [
    "y = df['HeartDisease'].values\n",
    "X = df.drop('HeartDisease', axis=1).values"
   ]
  },
  {
   "cell_type": "markdown",
   "id": "5ff17c3a-07b7-45b9-a348-b92b7cb0774e",
   "metadata": {},
   "source": [
    "### Spliting our data set to train and test. Test siez will be 20% of whole data"
   ]
  },
  {
   "cell_type": "code",
   "execution_count": 104,
   "id": "c8ac6134-7790-48c5-a2c7-f73b84a480fc",
   "metadata": {},
   "outputs": [],
   "source": [
    "X_train, X_test, y_train, y_test = train_test_split(X, y, test_size=0.2, random_state=42)"
   ]
  },
  {
   "cell_type": "markdown",
   "id": "128e6a95-5037-491a-a434-9c640248d43c",
   "metadata": {},
   "source": [
    "### Building our logistic model from sikit-learn library and train our model with train data set that we have"
   ]
  },
  {
   "cell_type": "code",
   "execution_count": 105,
   "id": "916564f0-e202-4f57-b007-4dfe95adb17e",
   "metadata": {},
   "outputs": [
    {
     "data": {
      "text/html": [
       "<style>#sk-container-id-2 {color: black;background-color: white;}#sk-container-id-2 pre{padding: 0;}#sk-container-id-2 div.sk-toggleable {background-color: white;}#sk-container-id-2 label.sk-toggleable__label {cursor: pointer;display: block;width: 100%;margin-bottom: 0;padding: 0.3em;box-sizing: border-box;text-align: center;}#sk-container-id-2 label.sk-toggleable__label-arrow:before {content: \"▸\";float: left;margin-right: 0.25em;color: #696969;}#sk-container-id-2 label.sk-toggleable__label-arrow:hover:before {color: black;}#sk-container-id-2 div.sk-estimator:hover label.sk-toggleable__label-arrow:before {color: black;}#sk-container-id-2 div.sk-toggleable__content {max-height: 0;max-width: 0;overflow: hidden;text-align: left;background-color: #f0f8ff;}#sk-container-id-2 div.sk-toggleable__content pre {margin: 0.2em;color: black;border-radius: 0.25em;background-color: #f0f8ff;}#sk-container-id-2 input.sk-toggleable__control:checked~div.sk-toggleable__content {max-height: 200px;max-width: 100%;overflow: auto;}#sk-container-id-2 input.sk-toggleable__control:checked~label.sk-toggleable__label-arrow:before {content: \"▾\";}#sk-container-id-2 div.sk-estimator input.sk-toggleable__control:checked~label.sk-toggleable__label {background-color: #d4ebff;}#sk-container-id-2 div.sk-label input.sk-toggleable__control:checked~label.sk-toggleable__label {background-color: #d4ebff;}#sk-container-id-2 input.sk-hidden--visually {border: 0;clip: rect(1px 1px 1px 1px);clip: rect(1px, 1px, 1px, 1px);height: 1px;margin: -1px;overflow: hidden;padding: 0;position: absolute;width: 1px;}#sk-container-id-2 div.sk-estimator {font-family: monospace;background-color: #f0f8ff;border: 1px dotted black;border-radius: 0.25em;box-sizing: border-box;margin-bottom: 0.5em;}#sk-container-id-2 div.sk-estimator:hover {background-color: #d4ebff;}#sk-container-id-2 div.sk-parallel-item::after {content: \"\";width: 100%;border-bottom: 1px solid gray;flex-grow: 1;}#sk-container-id-2 div.sk-label:hover label.sk-toggleable__label {background-color: #d4ebff;}#sk-container-id-2 div.sk-serial::before {content: \"\";position: absolute;border-left: 1px solid gray;box-sizing: border-box;top: 0;bottom: 0;left: 50%;z-index: 0;}#sk-container-id-2 div.sk-serial {display: flex;flex-direction: column;align-items: center;background-color: white;padding-right: 0.2em;padding-left: 0.2em;position: relative;}#sk-container-id-2 div.sk-item {position: relative;z-index: 1;}#sk-container-id-2 div.sk-parallel {display: flex;align-items: stretch;justify-content: center;background-color: white;position: relative;}#sk-container-id-2 div.sk-item::before, #sk-container-id-2 div.sk-parallel-item::before {content: \"\";position: absolute;border-left: 1px solid gray;box-sizing: border-box;top: 0;bottom: 0;left: 50%;z-index: -1;}#sk-container-id-2 div.sk-parallel-item {display: flex;flex-direction: column;z-index: 1;position: relative;background-color: white;}#sk-container-id-2 div.sk-parallel-item:first-child::after {align-self: flex-end;width: 50%;}#sk-container-id-2 div.sk-parallel-item:last-child::after {align-self: flex-start;width: 50%;}#sk-container-id-2 div.sk-parallel-item:only-child::after {width: 0;}#sk-container-id-2 div.sk-dashed-wrapped {border: 1px dashed gray;margin: 0 0.4em 0.5em 0.4em;box-sizing: border-box;padding-bottom: 0.4em;background-color: white;}#sk-container-id-2 div.sk-label label {font-family: monospace;font-weight: bold;display: inline-block;line-height: 1.2em;}#sk-container-id-2 div.sk-label-container {text-align: center;}#sk-container-id-2 div.sk-container {/* jupyter's `normalize.less` sets `[hidden] { display: none; }` but bootstrap.min.css set `[hidden] { display: none !important; }` so we also need the `!important` here to be able to override the default hidden behavior on the sphinx rendered scikit-learn.org. See: https://github.com/scikit-learn/scikit-learn/issues/21755 */display: inline-block !important;position: relative;}#sk-container-id-2 div.sk-text-repr-fallback {display: none;}</style><div id=\"sk-container-id-2\" class=\"sk-top-container\"><div class=\"sk-text-repr-fallback\"><pre>LogisticRegression()</pre><b>In a Jupyter environment, please rerun this cell to show the HTML representation or trust the notebook. <br />On GitHub, the HTML representation is unable to render, please try loading this page with nbviewer.org.</b></div><div class=\"sk-container\" hidden><div class=\"sk-item\"><div class=\"sk-estimator sk-toggleable\"><input class=\"sk-toggleable__control sk-hidden--visually\" id=\"sk-estimator-id-2\" type=\"checkbox\" checked><label for=\"sk-estimator-id-2\" class=\"sk-toggleable__label sk-toggleable__label-arrow\">LogisticRegression</label><div class=\"sk-toggleable__content\"><pre>LogisticRegression()</pre></div></div></div></div></div>"
      ],
      "text/plain": [
       "LogisticRegression()"
      ]
     },
     "execution_count": 105,
     "metadata": {},
     "output_type": "execute_result"
    }
   ],
   "source": [
    "logistic_regression_model = LogisticRegression()\n",
    "logistic_regression_model.fit(X_train, y_train)"
   ]
  },
  {
   "cell_type": "code",
   "execution_count": 106,
   "id": "b72d381a-821e-4ced-b53c-dc44fb80ca6e",
   "metadata": {},
   "outputs": [],
   "source": [
    "logistic_regression_prediction = logistic_regression_model.predict(X_test)"
   ]
  },
  {
   "cell_type": "markdown",
   "id": "d7b32225-6aa8-444d-9826-d5457d6b7961",
   "metadata": {},
   "source": [
    "### Finding accuracy of the model by feeding test data set that have splitied before (20% of whole data)"
   ]
  },
  {
   "cell_type": "code",
   "execution_count": 107,
   "id": "7cf7eb41-3964-43a4-ac97-ad8cea58c0eb",
   "metadata": {},
   "outputs": [
    {
     "name": "stdout",
     "output_type": "stream",
     "text": [
      "Accuracy: 0.8532608695652174\n",
      "Classification Report:\n",
      "               precision    recall  f1-score   support\n",
      "\n",
      "           0       0.80      0.87      0.83        77\n",
      "           1       0.90      0.84      0.87       107\n",
      "\n",
      "    accuracy                           0.85       184\n",
      "   macro avg       0.85      0.86      0.85       184\n",
      "weighted avg       0.86      0.85      0.85       184\n",
      "\n"
     ]
    }
   ],
   "source": [
    "accuracy_of_logistic_regression_model = accuracy_score(y_test, logistic_regression_prediction)\n",
    "report_of_logistic_regression_model = classification_report(y_test, logistic_regression_prediction)\n",
    "print(\"Accuracy:\", accuracy_of_logistic_regression_model)\n",
    "print(\"Classification Report:\\n\", report_of_logistic_regression_model)"
   ]
  },
  {
   "cell_type": "markdown",
   "id": "337ba0f8-0c82-45f8-a18d-c736df559df4",
   "metadata": {},
   "source": [
    "```\r\n",
    "Accuracy: 0.8532608695652174\r\n",
    "Classification Report:\r\n",
    "```\r\n",
    "```\r\n",
    "              precision    recall  f1-score   support\r\n",
    "\r\n",
    "           0       0.80      0.87      0.83        77\r\n",
    "           1       0.90      0.84      0.87       107\r\n",
    "\r\n",
    "    accuracy                           0.85       184\r\n",
    "   macro avg       0.85      0.86      0.85       184\r\n",
    "weighted avg       0.86      0.85      0.85       184\r\n",
    "```\r\n",
    "\r\n",
    "- **Accuracy**: The overall accuracy of the model is approximately 85.33%. This indicates the proportion of correct predictions made by the model.\r\n",
    "\r\n",
    "- **Classification Report**:\r\n",
    "  - **Precision**: Precision is the ratio of correctly predicted positive observations to the total predicted positives. For class 0, the precision is 80%, meaning that 80% of the instances predicted as class 0 were actually class 0. For class 1, the precision is 90%, indicating that 90% of the instances predicted as class 1 were actually class 1.\r\n",
    "  \r\n",
    "  - **Recall**: Recall, also known as sensitivity or true positive rate, is the ratio of correctly predicted positive observations to all observations in actual class. For class 0, the recall is 87%, indicating that 87% of the actual instances of class 0 were correctly classified. For class 1, the recall is 84%, meaning that 84% of the actual instances of class 1 were correctly classified.\r\n",
    "  \r\n",
    "  - **F1-score**: The F1-score is the harmonic mean of precision and recall. It provides a balance between precision and recall. For class 0, the F1-score is 83%, and for class 1, the F1-score is 87%.\r\n",
    "  \r\n",
    "  - **Support**: Support refers to the number of actual occurrences of the class in the specified dataset. For class 0, there are 77 instances, and for class 1, there are 107 instances.\r\n",
    "  \r\n",
    "- **Macro Average**: The macro average computes the metric independently for each class and then takes the average. Here, the macro average precision, recall, and F1-score are all approximately 85%.\r\n",
    "\r\n",
    "- **Weighted Average**: The weighted average calculates the metric for each class, but with respect to the number of instances of each class. Here, the weighted average precision, recall, and F1-score are all approximately 85%, taking into account the class imbalance.\r\n"
   ]
  }
 ],
 "metadata": {
  "kernelspec": {
   "display_name": "Python 3 (ipykernel)",
   "language": "python",
   "name": "python3"
  },
  "language_info": {
   "codemirror_mode": {
    "name": "ipython",
    "version": 3
   },
   "file_extension": ".py",
   "mimetype": "text/x-python",
   "name": "python",
   "nbconvert_exporter": "python",
   "pygments_lexer": "ipython3",
   "version": "3.11.7"
  }
 },
 "nbformat": 4,
 "nbformat_minor": 5
}
